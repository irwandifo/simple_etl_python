{
 "cells": [
  {
   "cell_type": "markdown",
   "id": "23a0353c",
   "metadata": {},
   "source": [
    "## Extract"
   ]
  },
  {
   "cell_type": "code",
   "execution_count": 1,
   "id": "898dab2a",
   "metadata": {},
   "outputs": [],
   "source": [
    "import pandas as pd\n",
    "import logging\n",
    "\n",
    "logging.basicConfig(level=logging.INFO)"
   ]
  },
  {
   "cell_type": "code",
   "execution_count": 2,
   "id": "51911361",
   "metadata": {},
   "outputs": [],
   "source": [
    "url = 'https://id.wikipedia.org/wiki/Daftar_miliarder_Forbes'"
   ]
  },
  {
   "cell_type": "code",
   "execution_count": 3,
   "id": "e192212c",
   "metadata": {},
   "outputs": [],
   "source": [
    "# function to read table in website using pandas\n",
    "def scrape(url):\n",
    "    logging.info(f' scrapping dari url: {url}')\n",
    "    return pd.read_html(url, header=None)"
   ]
  },
  {
   "cell_type": "code",
   "execution_count": 4,
   "id": "c6e37e57",
   "metadata": {},
   "outputs": [
    {
     "name": "stderr",
     "output_type": "stream",
     "text": [
      "INFO:root: scrapping dari url: https://id.wikipedia.org/wiki/Daftar_miliarder_Forbes\n",
      "INFO:numexpr.utils:NumExpr defaulting to 4 threads.\n"
     ]
    }
   ],
   "source": [
    "# scrapping second table from website\n",
    "df = scrape(url)[1]"
   ]
  },
  {
   "cell_type": "code",
   "execution_count": 30,
   "id": "b0ba40cf",
   "metadata": {},
   "outputs": [
    {
     "data": {
      "text/html": [
       "<div>\n",
       "<style scoped>\n",
       "    .dataframe tbody tr th:only-of-type {\n",
       "        vertical-align: middle;\n",
       "    }\n",
       "\n",
       "    .dataframe tbody tr th {\n",
       "        vertical-align: top;\n",
       "    }\n",
       "\n",
       "    .dataframe thead th {\n",
       "        text-align: right;\n",
       "    }\n",
       "</style>\n",
       "<table border=\"1\" class=\"dataframe\">\n",
       "  <thead>\n",
       "    <tr style=\"text-align: right;\">\n",
       "      <th></th>\n",
       "      <th>No.</th>\n",
       "      <th>Nama</th>\n",
       "      <th>Kekayaan bersih (USD)</th>\n",
       "      <th>Usia</th>\n",
       "      <th>Kebangsaan</th>\n",
       "      <th>Sumber kekayaan</th>\n",
       "    </tr>\n",
       "  </thead>\n",
       "  <tbody>\n",
       "    <tr>\n",
       "      <th>0</th>\n",
       "      <td>NaN</td>\n",
       "      <td>Jeff Bezos</td>\n",
       "      <td>$177 miliar</td>\n",
       "      <td>57</td>\n",
       "      <td>Amerika Serikat</td>\n",
       "      <td>Amazon</td>\n",
       "    </tr>\n",
       "    <tr>\n",
       "      <th>1</th>\n",
       "      <td>NaN</td>\n",
       "      <td>Elon Musk</td>\n",
       "      <td>$151 miliar</td>\n",
       "      <td>49</td>\n",
       "      <td>Amerika Serikat</td>\n",
       "      <td>Tesla, SpaceX</td>\n",
       "    </tr>\n",
       "    <tr>\n",
       "      <th>2</th>\n",
       "      <td>NaN</td>\n",
       "      <td>Bernard Arnault &amp; keluarga</td>\n",
       "      <td>$150 miliar</td>\n",
       "      <td>72</td>\n",
       "      <td>Prancis</td>\n",
       "      <td>LVMH</td>\n",
       "    </tr>\n",
       "    <tr>\n",
       "      <th>3</th>\n",
       "      <td>NaN</td>\n",
       "      <td>Bill Gates</td>\n",
       "      <td>$124 miliar</td>\n",
       "      <td>65</td>\n",
       "      <td>Amerika Serikat</td>\n",
       "      <td>Microsoft</td>\n",
       "    </tr>\n",
       "    <tr>\n",
       "      <th>4</th>\n",
       "      <td>NaN</td>\n",
       "      <td>Mark Zuckerberg</td>\n",
       "      <td>$97 miliar</td>\n",
       "      <td>36</td>\n",
       "      <td>Amerika Serikat</td>\n",
       "      <td>Meta Platforms</td>\n",
       "    </tr>\n",
       "  </tbody>\n",
       "</table>\n",
       "</div>"
      ],
      "text/plain": [
       "   No.                        Nama Kekayaan bersih (USD)  Usia  \\\n",
       "0  NaN                  Jeff Bezos           $177 miliar    57   \n",
       "1  NaN                   Elon Musk           $151 miliar    49   \n",
       "2  NaN  Bernard Arnault & keluarga           $150 miliar    72   \n",
       "3  NaN                  Bill Gates           $124 miliar    65   \n",
       "4  NaN             Mark Zuckerberg            $97 miliar    36   \n",
       "\n",
       "        Kebangsaan Sumber kekayaan  \n",
       "0  Amerika Serikat          Amazon  \n",
       "1  Amerika Serikat   Tesla, SpaceX  \n",
       "2          Prancis            LVMH  \n",
       "3  Amerika Serikat       Microsoft  \n",
       "4  Amerika Serikat  Meta Platforms  "
      ]
     },
     "execution_count": 30,
     "metadata": {},
     "output_type": "execute_result"
    }
   ],
   "source": [
    "# preview data\n",
    "df.head()"
   ]
  },
  {
   "cell_type": "markdown",
   "id": "520efdd9",
   "metadata": {},
   "source": [
    "## Transform"
   ]
  },
  {
   "cell_type": "code",
   "execution_count": 6,
   "id": "8d679d4d",
   "metadata": {},
   "outputs": [
    {
     "name": "stdout",
     "output_type": "stream",
     "text": [
      "<class 'pandas.core.frame.DataFrame'>\n",
      "RangeIndex: 10 entries, 0 to 9\n",
      "Data columns (total 6 columns):\n",
      " #   Column                 Non-Null Count  Dtype  \n",
      "---  ------                 --------------  -----  \n",
      " 0   No.                    0 non-null      float64\n",
      " 1   Nama                   10 non-null     object \n",
      " 2   Kekayaan bersih (USD)  10 non-null     object \n",
      " 3   Usia                   10 non-null     int64  \n",
      " 4   Kebangsaan             10 non-null     object \n",
      " 5   Sumber kekayaan        10 non-null     object \n",
      "dtypes: float64(1), int64(1), object(4)\n",
      "memory usage: 608.0+ bytes\n"
     ]
    }
   ],
   "source": [
    "# checking data\n",
    "df.info()"
   ]
  },
  {
   "cell_type": "code",
   "execution_count": 7,
   "id": "c3fc0e3c",
   "metadata": {},
   "outputs": [],
   "source": [
    "# import library to replace substrings using regex\n",
    "import re"
   ]
  },
  {
   "cell_type": "code",
   "execution_count": 8,
   "id": "cf239f1f",
   "metadata": {},
   "outputs": [],
   "source": [
    "# function to check if nett wealth ends with 'miliar'\n",
    "def is_money_miliar(string_money):\n",
    "    return string_money.lower().endswith('miliar')\n",
    "\n",
    "# function to replace unused substrings in nett wealth column\n",
    "def transform_money_format(string_money):\n",
    "    half_clean_string = string_money.lower().replace(',','.').replace(' ','')\n",
    "    return re.sub(r'[\\$miliar$]',' ',half_clean_string)\n",
    "\n",
    "# function that combine two functions above\n",
    "def transform(df, tahun):\n",
    "    logging.info('transforming...')\n",
    "    \n",
    "    # columns mapping to rename\n",
    "    columns_mapping = {\n",
    "        'No.':'nomor_urut',\n",
    "        'Nama':'nama',\n",
    "        'Usia':'usia',\n",
    "        'Kebangsaan':'kebangsaan',\n",
    "        'Sumber kekayaan':'sumber_kekayaan',\n",
    "        'Kekayaan bersih (USD)':'kekayaan_bersih_usd'\n",
    "    }\n",
    "    \n",
    "    # rename columns\n",
    "    renamed_df = df.rename(columns = columns_mapping)\n",
    "    \n",
    "    # add year column\n",
    "    renamed_df['tahun'] = tahun\n",
    "    \n",
    "    # add 'perusahaan' column\n",
    "    renamed_df['perusahaan'] = renamed_df['sumber_kekayaan']\n",
    "    \n",
    "    # insert ranking number\n",
    "    renamed_df['nomor_urut'] = list(range(1,len(df)+1))\n",
    "    \n",
    "    # clean wealth column and change data type to float\n",
    "    renamed_df['kekayaan_bersih_usd'] = renamed_df['kekayaan_bersih_usd'].apply(\n",
    "        lambda x: float(transform_money_format(x)) * 1000 if is_money_miliar(x) else float(transform_money_format(x))\n",
    "    )\n",
    "    \n",
    "    logging.info('done')\n",
    "    \n",
    "    # return cleaned data and ordering column\n",
    "    return renamed_df[['nama','nomor_urut','kekayaan_bersih_usd','perusahaan','usia','kebangsaan','sumber_kekayaan','tahun']]"
   ]
  },
  {
   "cell_type": "code",
   "execution_count": 9,
   "id": "c125797d",
   "metadata": {},
   "outputs": [
    {
     "name": "stderr",
     "output_type": "stream",
     "text": [
      "INFO:root:transforming...\n",
      "INFO:root:done\n"
     ]
    }
   ],
   "source": [
    "# clean data\n",
    "df_2021 = transform(df, 2021)"
   ]
  },
  {
   "cell_type": "code",
   "execution_count": 10,
   "id": "67b26c5c",
   "metadata": {},
   "outputs": [
    {
     "data": {
      "text/html": [
       "<div>\n",
       "<style scoped>\n",
       "    .dataframe tbody tr th:only-of-type {\n",
       "        vertical-align: middle;\n",
       "    }\n",
       "\n",
       "    .dataframe tbody tr th {\n",
       "        vertical-align: top;\n",
       "    }\n",
       "\n",
       "    .dataframe thead th {\n",
       "        text-align: right;\n",
       "    }\n",
       "</style>\n",
       "<table border=\"1\" class=\"dataframe\">\n",
       "  <thead>\n",
       "    <tr style=\"text-align: right;\">\n",
       "      <th></th>\n",
       "      <th>nama</th>\n",
       "      <th>nomor_urut</th>\n",
       "      <th>kekayaan_bersih_usd</th>\n",
       "      <th>perusahaan</th>\n",
       "      <th>usia</th>\n",
       "      <th>kebangsaan</th>\n",
       "      <th>sumber_kekayaan</th>\n",
       "      <th>tahun</th>\n",
       "    </tr>\n",
       "  </thead>\n",
       "  <tbody>\n",
       "    <tr>\n",
       "      <th>0</th>\n",
       "      <td>Jeff Bezos</td>\n",
       "      <td>1</td>\n",
       "      <td>177000.0</td>\n",
       "      <td>Amazon</td>\n",
       "      <td>57</td>\n",
       "      <td>Amerika Serikat</td>\n",
       "      <td>Amazon</td>\n",
       "      <td>2021</td>\n",
       "    </tr>\n",
       "    <tr>\n",
       "      <th>1</th>\n",
       "      <td>Elon Musk</td>\n",
       "      <td>2</td>\n",
       "      <td>151000.0</td>\n",
       "      <td>Tesla, SpaceX</td>\n",
       "      <td>49</td>\n",
       "      <td>Amerika Serikat</td>\n",
       "      <td>Tesla, SpaceX</td>\n",
       "      <td>2021</td>\n",
       "    </tr>\n",
       "    <tr>\n",
       "      <th>2</th>\n",
       "      <td>Bernard Arnault &amp; keluarga</td>\n",
       "      <td>3</td>\n",
       "      <td>150000.0</td>\n",
       "      <td>LVMH</td>\n",
       "      <td>72</td>\n",
       "      <td>Prancis</td>\n",
       "      <td>LVMH</td>\n",
       "      <td>2021</td>\n",
       "    </tr>\n",
       "    <tr>\n",
       "      <th>3</th>\n",
       "      <td>Bill Gates</td>\n",
       "      <td>4</td>\n",
       "      <td>124000.0</td>\n",
       "      <td>Microsoft</td>\n",
       "      <td>65</td>\n",
       "      <td>Amerika Serikat</td>\n",
       "      <td>Microsoft</td>\n",
       "      <td>2021</td>\n",
       "    </tr>\n",
       "    <tr>\n",
       "      <th>4</th>\n",
       "      <td>Mark Zuckerberg</td>\n",
       "      <td>5</td>\n",
       "      <td>97000.0</td>\n",
       "      <td>Meta Platforms</td>\n",
       "      <td>36</td>\n",
       "      <td>Amerika Serikat</td>\n",
       "      <td>Meta Platforms</td>\n",
       "      <td>2021</td>\n",
       "    </tr>\n",
       "    <tr>\n",
       "      <th>5</th>\n",
       "      <td>Warren Buffett</td>\n",
       "      <td>6</td>\n",
       "      <td>96000.0</td>\n",
       "      <td>Berkshire Hathaway</td>\n",
       "      <td>90</td>\n",
       "      <td>Amerika Serikat</td>\n",
       "      <td>Berkshire Hathaway</td>\n",
       "      <td>2021</td>\n",
       "    </tr>\n",
       "    <tr>\n",
       "      <th>6</th>\n",
       "      <td>Larry Ellison</td>\n",
       "      <td>7</td>\n",
       "      <td>93000.0</td>\n",
       "      <td>Oracle Corporation</td>\n",
       "      <td>76</td>\n",
       "      <td>Amerika Serikat</td>\n",
       "      <td>Oracle Corporation</td>\n",
       "      <td>2021</td>\n",
       "    </tr>\n",
       "    <tr>\n",
       "      <th>7</th>\n",
       "      <td>Larry Page</td>\n",
       "      <td>8</td>\n",
       "      <td>91500.0</td>\n",
       "      <td>Alphabet Inc.</td>\n",
       "      <td>48</td>\n",
       "      <td>Amerika Serikat</td>\n",
       "      <td>Alphabet Inc.</td>\n",
       "      <td>2021</td>\n",
       "    </tr>\n",
       "    <tr>\n",
       "      <th>8</th>\n",
       "      <td>Sergey Brin</td>\n",
       "      <td>9</td>\n",
       "      <td>89000.0</td>\n",
       "      <td>Alphabet Inc.</td>\n",
       "      <td>47</td>\n",
       "      <td>Amerika Serikat</td>\n",
       "      <td>Alphabet Inc.</td>\n",
       "      <td>2021</td>\n",
       "    </tr>\n",
       "    <tr>\n",
       "      <th>9</th>\n",
       "      <td>Mukesh Ambani</td>\n",
       "      <td>10</td>\n",
       "      <td>84500.0</td>\n",
       "      <td>Reliance Industries</td>\n",
       "      <td>63</td>\n",
       "      <td>India</td>\n",
       "      <td>Reliance Industries</td>\n",
       "      <td>2021</td>\n",
       "    </tr>\n",
       "  </tbody>\n",
       "</table>\n",
       "</div>"
      ],
      "text/plain": [
       "                         nama  nomor_urut  kekayaan_bersih_usd  \\\n",
       "0                  Jeff Bezos           1             177000.0   \n",
       "1                   Elon Musk           2             151000.0   \n",
       "2  Bernard Arnault & keluarga           3             150000.0   \n",
       "3                  Bill Gates           4             124000.0   \n",
       "4             Mark Zuckerberg           5              97000.0   \n",
       "5              Warren Buffett           6              96000.0   \n",
       "6               Larry Ellison           7              93000.0   \n",
       "7                  Larry Page           8              91500.0   \n",
       "8                 Sergey Brin           9              89000.0   \n",
       "9               Mukesh Ambani          10              84500.0   \n",
       "\n",
       "            perusahaan  usia       kebangsaan      sumber_kekayaan  tahun  \n",
       "0               Amazon    57  Amerika Serikat               Amazon   2021  \n",
       "1        Tesla, SpaceX    49  Amerika Serikat        Tesla, SpaceX   2021  \n",
       "2                 LVMH    72          Prancis                 LVMH   2021  \n",
       "3            Microsoft    65  Amerika Serikat            Microsoft   2021  \n",
       "4       Meta Platforms    36  Amerika Serikat       Meta Platforms   2021  \n",
       "5   Berkshire Hathaway    90  Amerika Serikat   Berkshire Hathaway   2021  \n",
       "6   Oracle Corporation    76  Amerika Serikat   Oracle Corporation   2021  \n",
       "7        Alphabet Inc.    48  Amerika Serikat        Alphabet Inc.   2021  \n",
       "8        Alphabet Inc.    47  Amerika Serikat        Alphabet Inc.   2021  \n",
       "9  Reliance Industries    63            India  Reliance Industries   2021  "
      ]
     },
     "execution_count": 10,
     "metadata": {},
     "output_type": "execute_result"
    }
   ],
   "source": [
    "# preview table\n",
    "df_2021"
   ]
  },
  {
   "cell_type": "markdown",
   "id": "85c53fc6",
   "metadata": {},
   "source": [
    "## Load"
   ]
  },
  {
   "cell_type": "code",
   "execution_count": 19,
   "id": "d83efbec",
   "metadata": {},
   "outputs": [],
   "source": [
    "# import library to load dataframe to database\n",
    "from sqlalchemy import create_engine"
   ]
  },
  {
   "cell_type": "code",
   "execution_count": 25,
   "id": "1c399662",
   "metadata": {},
   "outputs": [],
   "source": [
    "RDBMS = 'postgresql'\n",
    "DRIVER = 'psycopg2'\n",
    "DB_NAME = 'postgres'\n",
    "DB_USER = 'user1'\n",
    "DB_PASS = 'user1'\n",
    "DB_HOST = '104.197.148.144'\n",
    "DB_PORT = '5432'\n",
    "\n",
    "# connection string to connect to database\n",
    "CONNECTION_STRING = f'{RDBMS}+{DRIVER}://{DB_USER}:{DB_PASS}@{DB_HOST}:{DB_PORT}/{DB_NAME}'\n",
    "\n",
    "# table name to be created\n",
    "TABLE_NAME = 'KalisRifoIrwandi_orang_terkaya_forbes'"
   ]
  },
  {
   "cell_type": "code",
   "execution_count": 26,
   "id": "48dca4df",
   "metadata": {},
   "outputs": [],
   "source": [
    "# function to create new table and replace if it already exist\n",
    "def write_to_db(df, connection_string, nama_tabel):\n",
    "    logging.info('connecting to database...')\n",
    "    engine = create_engine(connection_string)\n",
    "    logging.info(f'create {nama_tabel} table...')\n",
    "    df.to_sql(nama_tabel, con=engine, index=False, if_exists='replace')\n",
    "    logging.info('done')"
   ]
  },
  {
   "cell_type": "code",
   "execution_count": 27,
   "id": "a8d4ed62",
   "metadata": {},
   "outputs": [
    {
     "name": "stderr",
     "output_type": "stream",
     "text": [
      "INFO:root:connecting to database...\n",
      "INFO:root:create KalisRifoIrwandi_orang_terkaya_forbes table...\n",
      "INFO:root:done\n"
     ]
    }
   ],
   "source": [
    "# create new table to database\n",
    "write_to_db(df_2021,CONNECTION_STRING,TABLE_NAME)"
   ]
  }
 ],
 "metadata": {
  "kernelspec": {
   "display_name": "Python 3",
   "language": "python",
   "name": "python3"
  },
  "language_info": {
   "codemirror_mode": {
    "name": "ipython",
    "version": 3
   },
   "file_extension": ".py",
   "mimetype": "text/x-python",
   "name": "python",
   "nbconvert_exporter": "python",
   "pygments_lexer": "ipython3",
   "version": "3.8.8"
  }
 },
 "nbformat": 4,
 "nbformat_minor": 5
}
